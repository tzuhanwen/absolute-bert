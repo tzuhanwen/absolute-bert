{
 "cells": [
  {
   "cell_type": "code",
   "execution_count": 1,
   "id": "e382ed42-0ec2-47a0-aee8-452cba03f654",
   "metadata": {},
   "outputs": [],
   "source": [
    "# !pip install rank-bm25 nltk\n",
    "# nltk.download('stopwords')"
   ]
  },
  {
   "cell_type": "code",
   "execution_count": 2,
   "id": "f4cb6cb8-0c58-46f9-9896-81f1bc08f611",
   "metadata": {},
   "outputs": [
    {
     "name": "stderr",
     "output_type": "stream",
     "text": [
      "/home/adam/miniconda3/envs/lima/lib/python3.12/site-packages/beir/datasets/data_loader.py:2: TqdmWarning: IProgress not found. Please update jupyter and ipywidgets. See https://ipywidgets.readthedocs.io/en/stable/user_install.html\n",
      "  from tqdm.autonotebook import tqdm\n",
      "100%|███████████████████████████████████████████████████████████████████████████████████| 171332/171332 [00:01<00:00, 116744.32it/s]\n"
     ]
    }
   ],
   "source": [
    "from beir.datasets.data_loader import GenericDataLoader\n",
    "\n",
    "corpus_name = 'scifact'\n",
    "corpus_name = 'trec-covid'\n",
    "# corpus_name = 'nfcorpus'\n",
    "\n",
    "corpus, queries, qrels = GenericDataLoader(f'data/{corpus_name}').load(split=\"test\")\n",
    "corpus_text = [v['text'] for k,v in corpus.items()]"
   ]
  },
  {
   "cell_type": "code",
   "execution_count": null,
   "id": "21f37432-0006-45ce-9cb4-7019000b4e96",
   "metadata": {},
   "outputs": [],
   "source": [
    "from utils.preprocessor import Stopwords_preprocessor\n",
    "from utils.logging import beir_metrics_to_markdown_table\n",
    "from IPython.display import Markdown\n",
    "\n",
    "from rank_bm25 import BM25Okapi as BM25\n",
    "from transformers import logging, AutoTokenizer\n",
    "\n",
    "from beir.retrieval.evaluation import EvaluateRetrieval"
   ]
  },
  {
   "cell_type": "code",
   "execution_count": 4,
   "id": "e16dd66d-4688-41e1-aec3-cb3a79fd954a",
   "metadata": {},
   "outputs": [
    {
     "name": "stdout",
     "output_type": "stream",
     "text": [
      "CPU times: user 2 µs, sys: 4 µs, total: 6 µs\n",
      "Wall time: 13.1 µs\n"
     ]
    }
   ],
   "source": [
    "%time #build\n",
    "preprocessor = Stopwords_preprocessor()\n",
    "tokenizer = AutoTokenizer.from_pretrained('distilbert-base-cased')\n",
    "# logging.get_logger().setLevel(logging.ERROR)\n",
    "\n",
    "def simple_split(text):\n",
    "    return text.split(' ')\n",
    "\n",
    "bm25 = BM25([v['text'] for k,v in corpus.items()], simple_split)"
   ]
  },
  {
   "cell_type": "code",
   "execution_count": 5,
   "id": "c96dc255-daeb-46ec-ab28-3228dc900f0b",
   "metadata": {},
   "outputs": [
    {
     "name": "stdout",
     "output_type": "stream",
     "text": [
      "CPU times: user 2 µs, sys: 1e+03 ns, total: 3 µs\n",
      "Wall time: 16.5 µs\n"
     ]
    }
   ],
   "source": [
    "%time #query\n",
    "results = {qid: dict(zip(corpus.keys(), bm25.get_scores(bm25.tokenizer(query)))) \\\n",
    "                 for qid, query in queries.items()}"
   ]
  },
  {
   "cell_type": "code",
   "execution_count": 6,
   "id": "d660405d-1cf7-4cd0-b6a7-2e63f7e3ecb4",
   "metadata": {},
   "outputs": [
    {
     "name": "stdout",
     "output_type": "stream",
     "text": [
      "CPU times: user 2 µs, sys: 1 µs, total: 3 µs\n",
      "Wall time: 5.72 µs\n",
      "NDCG@1\tNDCG@3\tNDCG@5\tNDCG@10\tNDCG@100\tNDCG@1000\tMAP@1\tMAP@3\tMAP@5\tMAP@10\tMAP@100\tMAP@1000\tRecall@1\tRecall@3\tRecall@5\tRecall@10\tRecall@100\tRecall@1000\tP@1\tP@3\tP@5\tP@10\tP@100\tP@1000\n",
      "0.47\t0.43592\t0.42873\t0.40482\t0.27558\t0.23447\t0.00119\t0.00299\t0.00468\t0.00807\t0.03569\t0.07884\t0.00119\t0.00338\t0.00566\t0.01069\t0.0635\t0.22518\t0.54\t0.46667\t0.464\t0.44\t0.2888\t0.11302\n",
      "\n"
     ]
    },
    {
     "data": {
      "text/markdown": [
       "||NDCG|MAP|Recall|P|\n",
       "|-|-|-|-|-|\n",
       "|@1|0.4700|0.0012|0.0012|0.5400|\n",
       "|@3|0.4359|0.0030|0.0034|0.4667|\n",
       "|@5|0.4287|0.0047|0.0057|0.4640|\n",
       "|@10|0.4048|0.0081|0.0107|0.4400|\n",
       "|@100|0.2756|0.0357|0.0635|0.2888|\n",
       "|@1000|0.2345|0.0788|0.2252|0.1130|"
      ],
      "text/plain": [
       "<IPython.core.display.Markdown object>"
      ]
     },
     "execution_count": 6,
     "metadata": {},
     "output_type": "execute_result"
    }
   ],
   "source": [
    "%time #evaluate\n",
    "metrics = EvaluateRetrieval.evaluate(qrels, results, [1, 3, 5, 10, 100, 1000])\n",
    "\n",
    "flatten_metrics = {k: v for metric_type in metrics for k, v in metric_type.items()}\n",
    "metric_names, metric_values = zip(*flatten_metrics.items())\n",
    "print(*metric_names, sep='\\t')\n",
    "print(*metric_values, sep='\\t')\n",
    "print()\n",
    "\n",
    "Markdown(beir_metrics_to_markdown_table(*metrics))"
   ]
  },
  {
   "cell_type": "code",
   "execution_count": 7,
   "id": "65b2b45c-a142-4bcb-b63f-18cb940c04a9",
   "metadata": {},
   "outputs": [
    {
     "name": "stdout",
     "output_type": "stream",
     "text": [
      "NDCG@1\tNDCG@3\tNDCG@5\tNDCG@10\tNDCG@100\tNDCG@1000\tMAP@1\tMAP@3\tMAP@5\tMAP@10\tMAP@100\tMAP@1000\tRecall@1\tRecall@3\tRecall@5\tRecall@10\tRecall@100\tRecall@1000\tP@1\tP@3\tP@5\tP@10\tP@100\tP@1000\n",
      "0.47\t0.43592\t0.42873\t0.40482\t0.27558\t0.23447\t0.00119\t0.00299\t0.00468\t0.00807\t0.03569\t0.07884\t0.00119\t0.00338\t0.00566\t0.01069\t0.0635\t0.22518\t0.54\t0.46667\t0.464\t0.44\t0.2888\t0.11302\n",
      "\n"
     ]
    }
   ],
   "source": [
    "flatten_metrics = {k: v for metric_type in metrics for k, v in metric_type.items()}\n",
    "metric_names, metric_values = zip(*flatten_metrics.items())\n",
    "print(*metric_names, sep='\\t')\n",
    "print(*metric_values, sep='\\t')\n",
    "print()"
   ]
  },
  {
   "cell_type": "code",
   "execution_count": null,
   "id": "66684e89-c1be-46a1-921f-9f7bb80ff796",
   "metadata": {},
   "outputs": [],
   "source": []
  }
 ],
 "metadata": {
  "kernelspec": {
   "display_name": "Python 3 (ipykernel)",
   "language": "python",
   "name": "python3"
  },
  "language_info": {
   "codemirror_mode": {
    "name": "ipython",
    "version": 3
   },
   "file_extension": ".py",
   "mimetype": "text/x-python",
   "name": "python",
   "nbconvert_exporter": "python",
   "pygments_lexer": "ipython3",
   "version": "3.12.0"
  }
 },
 "nbformat": 4,
 "nbformat_minor": 5
}
